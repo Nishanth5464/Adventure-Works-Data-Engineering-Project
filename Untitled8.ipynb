{
 "cells": [
  {
   "cell_type": "code",
   "execution_count": 6,
   "id": "fbbf468d-91cc-4beb-82f5-902f6b472dc3",
   "metadata": {},
   "outputs": [
    {
     "ename": "NameError",
     "evalue": "name '_name_' is not defined",
     "output_type": "error",
     "traceback": [
      "\u001b[0;31m---------------------------------------------------------------------------\u001b[0m",
      "\u001b[0;31mNameError\u001b[0m                                 Traceback (most recent call last)",
      "Cell \u001b[0;32mIn[6], line 21\u001b[0m\n\u001b[1;32m     18\u001b[0m     \u001b[38;5;28mprint\u001b[39m(\u001b[38;5;124mf\u001b[39m\u001b[38;5;124m\"\u001b[39m\u001b[38;5;124mUpper Bound: \u001b[39m\u001b[38;5;132;01m{\u001b[39;00mupper_bound\u001b[38;5;132;01m}\u001b[39;00m\u001b[38;5;124m\"\u001b[39m)\n\u001b[1;32m     19\u001b[0m     \u001b[38;5;28mprint\u001b[39m(\u001b[38;5;124mf\u001b[39m\u001b[38;5;124m\"\u001b[39m\u001b[38;5;124mOutliers: \u001b[39m\u001b[38;5;132;01m{\u001b[39;00moutliers\u001b[38;5;132;01m}\u001b[39;00m\u001b[38;5;124m\"\u001b[39m)\n\u001b[0;32m---> 21\u001b[0m \u001b[38;5;28;01mif\u001b[39;00m _name_ \u001b[38;5;241m==\u001b[39m \u001b[38;5;124m\"\u001b[39m\u001b[38;5;124m_main_\u001b[39m\u001b[38;5;124m\"\u001b[39m:\n\u001b[1;32m     22\u001b[0m     values \u001b[38;5;241m=\u001b[39m [\u001b[38;5;241m15\u001b[39m, \u001b[38;5;241m175\u001b[39m, \u001b[38;5;241m80\u001b[39m, \u001b[38;5;241m34\u001b[39m, \u001b[38;5;241m23\u001b[39m, \u001b[38;5;241m12\u001b[39m, \u001b[38;5;241m-\u001b[39m\u001b[38;5;241m95\u001b[39m, \u001b[38;5;241m74\u001b[39m, \u001b[38;5;241m56\u001b[39m, \u001b[38;5;241m9\u001b[39m, \u001b[38;5;241m65\u001b[39m]\n\u001b[1;32m     23\u001b[0m     interquartile(values)\n",
      "\u001b[0;31mNameError\u001b[0m: name '_name_' is not defined"
     ]
    }
   ],
   "source": [
    "from numpy import percentile\n",
    "\n",
    "def interquartile(values):\n",
    "    Q1 = percentile(values, 25)  # First quartile (25th percentile)\n",
    "    Q3 = percentile(values, 75)  # Third quartile (75th percentile)\n",
    "    IQR = Q3 - Q1  # Interquartile range\n",
    "    lower_bound = Q1 - 1.5 * IQR  # Lower bound for outliers\n",
    "    upper_bound = Q3 + 1.5 * IQR  # Upper bound for outliers\n",
    "\n",
    "    # Find outliers\n",
    "    outliers = [x for x in values if x < lower_bound or x > upper_bound]\n",
    "\n",
    "    # Print results\n",
    "    print(f\"Quartile 1 (Q1): {Q1}\")\n",
    "    print(f\"Quartile 3 (Q3): {Q3}\")\n",
    "    print(f\"Interquartile Range (IQR): {IQR}\")\n",
    "    print(f\"Lower Bound: {lower_bound}\")\n",
    "    print(f\"Upper Bound: {upper_bound}\")\n",
    "    print(f\"Outliers: {outliers}\")\n",
    "\n",
    "if _name_ == \"_main_\":\n",
    "    values = [15, 175, 80, 34, 23, 12, -95, 74, 56, 9, 65]\n",
    "    interquartile(values)"
   ]
  },
  {
   "cell_type": "code",
   "execution_count": null,
   "id": "1ea36b68-ccf2-446b-adfb-39b7618344b9",
   "metadata": {},
   "outputs": [],
   "source": []
  },
  {
   "cell_type": "code",
   "execution_count": null,
   "id": "c191e25a-694e-4972-8289-11ac257b1c37",
   "metadata": {},
   "outputs": [],
   "source": []
  }
 ],
 "metadata": {
  "kernelspec": {
   "display_name": "Python [conda env:base] *",
   "language": "python",
   "name": "conda-base-py"
  },
  "language_info": {
   "codemirror_mode": {
    "name": "ipython",
    "version": 3
   },
   "file_extension": ".py",
   "mimetype": "text/x-python",
   "name": "python",
   "nbconvert_exporter": "python",
   "pygments_lexer": "ipython3",
   "version": "3.12.7"
  }
 },
 "nbformat": 4,
 "nbformat_minor": 5
}
